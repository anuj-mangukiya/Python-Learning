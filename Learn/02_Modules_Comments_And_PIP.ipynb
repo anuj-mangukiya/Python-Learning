{
 "cells": [
  {
   "cell_type": "markdown",
   "id": "4f08eb6f",
   "metadata": {},
   "source": [
    "<H2>Modules</H2> \n",
    "\n",
    "- A module is a file containing code written by somebody else (usually), which can be imported and used in our programs.<br>\n",
    "\n",
    "    <H4>Types of Modules</H4>\n",
    "\n",
    "    1) Built in Modules (Preinstalled in Python)\n",
    "        - ex. os, random, etc.\n",
    "    2) External Modules (Need to install using pip)\n",
    "        - ex. pandas, flask, etc."
   ]
  },
  {
   "cell_type": "markdown",
   "id": "faf4dda6",
   "metadata": {},
   "source": [
    "<H2>Pip</H2>\n",
    "\n",
    "- pip is the package manager for python. you can use PIP to install a module on your system.<br>\n",
    "\n",
    "    **PIP Install Pandas**"
   ]
  },
  {
   "cell_type": "markdown",
   "id": "e28baeb7",
   "metadata": {},
   "source": [
    "<H2>Types of Comments</H2>\n",
    "\n",
    "1) **Single line comment**\n",
    "    - To write just add a '#' at the start of the line.<br>\n",
    "\n",
    "        **\\# This is a single line comment**\n",
    "\n",
    "2) **Multiline comment**\n",
    "    - To write you can use # at each line or you can use the multiline string (\"\"\" \"\"\").<br>\n",
    "\n",
    "        **\"\"\"This is a example of a Multiline comment!\"\"\"**"
   ]
  }
 ],
 "metadata": {
  "language_info": {
   "name": "python"
  }
 },
 "nbformat": 4,
 "nbformat_minor": 5
}
