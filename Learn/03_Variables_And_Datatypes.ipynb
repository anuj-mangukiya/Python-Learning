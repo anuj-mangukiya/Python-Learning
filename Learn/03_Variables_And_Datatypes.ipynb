{
 "cells": [
  {
   "cell_type": "markdown",
   "id": "e362ef8f",
   "metadata": {},
   "source": [
    "<H2>Variable</H2>\n",
    "<H3>How Python sees variables</H3> \n",
    "\n",
    "- In python, a variable is seen as a tag (or name) that is tied to some value.\n",
    "    - **x = 7**\n",
    "\n",
    "- Means, the value 7 is created first in the memory and then a tag by the name 'x' is created. \n",
    "    - **x---->7**\n",
    "\n",
    "- Python considers the valve (ex, 7) as 'objects'.\n",
    "\n",
    "- If we change the value of 'x' to anew value 9. \n",
    "    - **x = 9**\n",
    "- Then the tag is simply changed to a new value as\n",
    "    - **x---->9 7** \n",
    "\n",
    "- Since the value '7' become unreferenced object, it is removed by the garbage collector. \n",
    "\n",
    "\n",
    "- Assigning one variable to another variable makes a new tag bound to the same value.\n",
    "    - **y = x** \n",
    "\n",
    "- New tag 'y' will be created that referes as \n",
    "    - **x----> 9 <----y**"
   ]
  },
  {
   "cell_type": "markdown",
   "id": "acf61b7d",
   "metadata": {},
   "source": [
    "- A variable is the name given to a memory location in program \n",
    "    - **a = 30** \n",
    "    - **b = \"Anuj\"** \n",
    "    - **c = 71.22**\n",
    "    \n",
    "- variables = container to store a value \n",
    "- keywords = reserved words in Python \n",
    "- identifiers =  class/function/variable name"
   ]
  },
  {
   "cell_type": "markdown",
   "id": "62eb67b4",
   "metadata": {},
   "source": [
    "<H2>Data Types</H2> \n",
    "\n",
    "- Python has several built in data types that allow you to store and manipulate different kind of data. \n",
    "\n",
    "1) Numeric Types \n",
    "    - int - Represents integers \n",
    "    - float - Represents decimal values\n",
    "    - complex - Complex number with real & imaginary part\n",
    "\n",
    "2) Sequence Types: \n",
    "    - str - Represents string, sequence of characters \n",
    "    - list - mutable sequence of elements \n",
    "    - tuple - immutable sequence of elements \n",
    " \n",
    "3) Mapping Type: \n",
    "    - dict - A collection of key-value pairs \n",
    "\n",
    "4) Set Types: \n",
    "    - set - collection of unique elements \n",
    "    - frozenset - immutable version of set \n",
    "\n",
    "5) Boolean Type: \n",
    "    - bool - Represents truth values ex. True or False \n",
    "\n",
    "6) Binary Types: \n",
    "    - bytes - immutable sequence of bytes \n",
    "    - bytearray - muteable sequence of bytes \n",
    "    - memoryview - A memory view object\n",
    "\n",
    "7) None Type: \n",
    "    - NoneType - Represents the absense of a value - None "
   ]
  },
  {
   "cell_type": "markdown",
   "id": "44f917b8",
   "metadata": {},
   "source": [
    "<H3>Rules for changing an Identifier</H3>\n",
    "\n",
    "- A variable name can contain alphabets, digits, and underscores.\n",
    "- A variable name can only start with an alphabet and underscores. \n",
    "- A variable name can't start with a digit.\n",
    "- No white space is allowed to be used inside a variable name. \n",
    "- Identifier can be of any length.\n",
    "\n",
    "<H3>Reserved Keywords (35)</H3>\n",
    "\n",
    "| Column 1 | Column 2 | Column 3 | Column 4 | Column 5 |\n",
    "|----------|----------|----------|----------|----------|\n",
    "| await    | continue | from     | in       | raise    |\n",
    "| and      | def      | False    | lambda   | return   |\n",
    "| as       | del      | for      | not      | True     |\n",
    "| assert   | else     | global   | None     | try      |\n",
    "| async    | except   | is       | nonlocal | with     |\n",
    "| break    | elif     | if       | or       | while    |\n",
    "| class    | finally  | import   | pass     | yield    |\n",
    "\n",
    "\n"
   ]
  }
 ],
 "metadata": {
  "language_info": {
   "name": "python"
  }
 },
 "nbformat": 4,
 "nbformat_minor": 5
}
