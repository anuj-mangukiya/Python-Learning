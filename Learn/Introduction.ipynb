{
 "cells": [
  {
   "cell_type": "markdown",
   "id": "56edfbfe",
   "metadata": {},
   "source": [
    "Developed By:   **Guido Van Rossum**  \n",
    "Relesed on:     **February 20,1991**"
   ]
  },
  {
   "cell_type": "markdown",
   "id": "ec334fd8",
   "metadata": {},
   "source": [
    "<H2>What is Programming?</H2>  \n",
    "- Just like we use Hindi or English to communicate with each other, we use a programming language like python to communicate with the computer.<br> \n",
    "- Programming is a way to instruct the computer to perform verious tasks."
   ]
  },
  {
   "cell_type": "markdown",
   "id": "21e4854e",
   "metadata": {},
   "source": [
    "<H2>What is Python?</H2>\n",
    "- Python is a simple and easy to understand language which feels like reading simple English.<br>\n",
    "- This Pseudo code nature is easy to learn and understandable by beginners."
   ]
  },
  {
   "cell_type": "markdown",
   "id": "0a362ac6",
   "metadata": {},
   "source": [
    "<H2>Feature of Python</H2>\n",
    "- Easy to Understand.<br>\n",
    "- Less development time(Interpreted & Platform Independent).<br>\n",
    "- High level language.<br>\n",
    "- Portable: Works on Linux/Windows/Mac.<br>\n",
    "- Free and open source.<br>\n",
    "- Provide very big library support.(Numpy, Pandas, opencv, etc.)."
   ]
  },
  {
   "cell_type": "markdown",
   "id": "4bce0b30",
   "metadata": {},
   "source": [
    "<H2>Uses of Python</H2>\n",
    "- Data Visualization, Data Analysis, and Data Science.<br>\n",
    "- AI and Machine learning.<br>\n",
    "- Create Web Application.<br>\n",
    "- Handle Databases.<br>\n",
    "- Perfom complex Mathematical Operation."
   ]
  },
  {
   "cell_type": "markdown",
   "id": "a92c43d7",
   "metadata": {},
   "source": [
    "<H2>Installation</H2>\n",
    "\n",
    "- Python can be easily installed from python.org.<br>\n",
    "- When you clik on the dowonlaod button, Python can be installed right after you complete the setup by executing the file for yuor platform."
   ]
  },
  {
   "cell_type": "markdown",
   "id": "38cd9c01",
   "metadata": {},
   "source": [
    "<H2>First Python Program</H2>\n",
    "- Create a file called First Program.py and paste the below code in it."
   ]
  },
  {
   "cell_type": "code",
   "execution_count": 1,
   "id": "b5d333d4",
   "metadata": {},
   "outputs": [
    {
     "name": "stdout",
     "output_type": "stream",
     "text": [
      "Hello World\n"
     ]
    }
   ],
   "source": [
    "print(\"Hello World\")"
   ]
  },
  {
   "cell_type": "markdown",
   "id": "9b553766",
   "metadata": {},
   "source": [
    "Execute the file (.py file) by typing<br><br>\n",
    "**Pyton FirstProgramm.py**<br><br>\n",
    "in the terminal and you will see Hello world printed on the screen."
   ]
  }
 ],
 "metadata": {
  "kernelspec": {
   "display_name": "base",
   "language": "python",
   "name": "python3"
  },
  "language_info": {
   "codemirror_mode": {
    "name": "ipython",
    "version": 3
   },
   "file_extension": ".py",
   "mimetype": "text/x-python",
   "name": "python",
   "nbconvert_exporter": "python",
   "pygments_lexer": "ipython3",
   "version": "3.11.5"
  }
 },
 "nbformat": 4,
 "nbformat_minor": 5
}
